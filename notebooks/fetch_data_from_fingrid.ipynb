{
 "cells": [
  {
   "cell_type": "code",
   "execution_count": null,
   "metadata": {},
   "outputs": [],
   "source": [
    "# Reloading modules automatically when they change\n",
    "%load_ext autoreload\n",
    "%autoreload 2"
   ]
  },
  {
   "cell_type": "code",
   "execution_count": null,
   "metadata": {},
   "outputs": [],
   "source": [
    "import os\n",
    "import sys\n",
    "import pandas as pd\n",
    "\n",
    "import plotly.graph_objects as go\n",
    "\n",
    "from forecaster.data import fingrid"
   ]
  },
  {
   "cell_type": "code",
   "execution_count": null,
   "metadata": {},
   "outputs": [],
   "source": [
    "dataset_shorts = fingrid.fetch_dataset_shorts()\n",
    "fingrid.print_dataset_shorts(dataset_shorts)"
   ]
  },
  {
   "cell_type": "code",
   "execution_count": null,
   "metadata": {},
   "outputs": [],
   "source": [
    "from datetime import datetime\n",
    "from zoneinfo import ZoneInfo\n",
    "\n",
    "# Define the Helsinki timezone\n",
    "timezone = ZoneInfo('Europe/Helsinki')\n",
    "\n",
    "# Define the start and end times\n",
    "dt_start = datetime(2016, 1, 1, 00, 00, tzinfo=timezone)\n",
    "dt_end = datetime(2024, 1, 1, 00, 00, tzinfo=timezone)\n",
    "\n",
    "# Convert the start and end times to UTC and format them as RFC 3339 strings\n",
    "start_time_utc_3339 = dt_start.astimezone(ZoneInfo('UTC')).isoformat().replace(\"+00:00\", \"Z\")\n",
    "end_time_utc_3339 = dt_end.astimezone(ZoneInfo('UTC')).isoformat().replace(\"+00:00\", \"Z\")\n",
    "print(start_time_utc_3339)\n",
    "print(end_time_utc_3339)"
   ]
  },
  {
   "cell_type": "code",
   "execution_count": null,
   "metadata": {},
   "outputs": [],
   "source": [
    "# Define the dataset IDs for the datasets we want to fetch\n",
    "dataset_ids = ['246', '247', '165', '242']\n",
    "\n",
    "# Fetch the data for each dataset and save it to a CSV file\n",
    "for dataset_id in dataset_ids:  \n",
    "\n",
    "    print(f\"Fetching data for dataset {dataset_id}\")\n",
    "    data = fingrid.fetch_dataset_data(dataset_id, start_time_utc_3339, end_time_utc_3339)\n",
    "\n",
    "    # Convert the data to a DataFrame\n",
    "    data = pd.DataFrame(data)\n",
    "\n",
    "    # Drop the endTime column and set the startTime column as the index\n",
    "    data.drop(columns='endTime', inplace=True)\n",
    "    data['startTime'] = pd.to_datetime(data['startTime'])\n",
    "    data['startTime'] = data['startTime'].apply(lambda x: x.astimezone(timezone))\n",
    "    data.set_index('startTime', inplace=True)\n",
    "    data.sort_index(inplace=True)\n",
    "\n",
    "    # Resample the data to hourly frequency\n",
    "    data = data.resample('h').nearest()\n",
    "\n",
    "    data.to_csv(f'../data/{dataset_id}.csv')"
   ]
  }
 ],
 "metadata": {
  "kernelspec": {
   "display_name": "spot-price-forecast",
   "language": "python",
   "name": "python3"
  },
  "language_info": {
   "codemirror_mode": {
    "name": "ipython",
    "version": 3
   },
   "file_extension": ".py",
   "mimetype": "text/x-python",
   "name": "python",
   "nbconvert_exporter": "python",
   "pygments_lexer": "ipython3",
   "version": "3.11.10"
  }
 },
 "nbformat": 4,
 "nbformat_minor": 2
}
