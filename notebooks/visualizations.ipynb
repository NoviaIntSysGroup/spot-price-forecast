{
 "cells": [
  {
   "cell_type": "markdown",
   "metadata": {},
   "source": [
    "# **1. Import Libraries**"
   ]
  },
  {
   "cell_type": "code",
   "execution_count": null,
   "metadata": {},
   "outputs": [],
   "source": [
    "# Reloading modules automatically when they change\n",
    "%load_ext autoreload\n",
    "%autoreload 2"
   ]
  },
  {
   "cell_type": "code",
   "execution_count": null,
   "metadata": {},
   "outputs": [],
   "source": [
    "import pandas as pd\n",
    "\n",
    "from forecaster.data import spot\n",
    "from forecaster.models import models, trainer\n",
    "from forecaster.plotting.interactive import plot_predictions\n",
    "from forecaster.plotting.static import plot_time_coefficients, plot_year_over_year_coefficients, plot_custom_metrics\n",
    "from forecaster.data.fingrid import EXTERNAL_FEATURES"
   ]
  },
  {
   "cell_type": "markdown",
   "metadata": {},
   "source": [
    "# **2. Load Data**"
   ]
  },
  {
   "cell_type": "code",
   "execution_count": null,
   "metadata": {},
   "outputs": [],
   "source": [
    "# Load the data\n",
    "file_path = '../data/spot_prices_fi_2016_2023.csv'\n",
    "spot_data = spot.load_spot_data(file_path, date_col=\"date\", price_col=\"elspot-fi\")\n",
    "plot_predictions(spot_data, slider=True)"
   ]
  },
  {
   "cell_type": "code",
   "execution_count": null,
   "metadata": {},
   "outputs": [],
   "source": []
  },
  {
   "cell_type": "markdown",
   "metadata": {},
   "source": [
    "# **3. Model Training**\n",
    "Fit a linear model with LEAR features highly inspired by the following paper: [LEAR Paper](https://www.sciencedirect.com/science/article/pii/S0306261921004529?via%3Dihub)"
   ]
  },
  {
   "cell_type": "code",
   "execution_count": null,
   "metadata": {},
   "outputs": [],
   "source": [
    "# Define different feature configurations for the model training\n",
    "model_kwargs = {\n",
    "    \"Time + Price Lags\": {\n",
    "        \"daily_price_lags\": [1, 2, 3, 7],\n",
    "        \"time_features\": True,\n",
    "    },\n",
    "    \"Time + Price Lags + External Features\": {\n",
    "        \"daily_price_lags\": [1, 2, 3, 7],\n",
    "        \"time_features\": True,\n",
    "        \"external_features\": EXTERNAL_FEATURES,\n",
    "    },\n",
    "    \"Time + Price Lags + External Features + External Lags\": {\n",
    "        \"daily_price_lags\": [1, 2, 3, 7],\n",
    "        \"time_features\": True,\n",
    "        \"external_features\": EXTERNAL_FEATURES,\n",
    "        \"daily_external_lags\": [1, 7],\n",
    "    },\n",
    "}"
   ]
  },
  {
   "cell_type": "code",
   "execution_count": null,
   "metadata": {},
   "outputs": [],
   "source": [
    "# Train the models and save predictions and coefficients\n",
    "lm_predictions = {}\n",
    "lm_coeffs = {}\n",
    "for title, kwargs in model_kwargs.items():\n",
    "    model = models.LinearModel(**kwargs)\n",
    "    data = model.preprocess_data(spot_data)\n",
    "    print(f\"Features: {title}\")\n",
    "    predictions, _, coeffs = trainer.year_on_year_training(data, model)\n",
    "    print(\"-\" * 80)\n",
    "    lm_predictions[title] = predictions\n",
    "    lm_coeffs[title] = coeffs"
   ]
  },
  {
   "cell_type": "markdown",
   "metadata": {},
   "source": [
    "# **4. Visualizations**"
   ]
  },
  {
   "cell_type": "code",
   "execution_count": null,
   "metadata": {},
   "outputs": [],
   "source": [
    "# Visualize coefficients for Time + Price Lags + External Features + External Lags for 2023\n",
    "lr_coeffs_2023 = lm_coeffs[\"Time + Price Lags + External Features + External Lags\"][2023]\n",
    "\n",
    "plot_time_coefficients(lr_coeffs_2023, title=\"Coefficients for Time Features for 2023\", save_dir=\"../images\")\n"
   ]
  },
  {
   "cell_type": "code",
   "execution_count": null,
   "metadata": {},
   "outputs": [],
   "source": [
    "# Plot y_lag features for Time + Price Lags + External Features + External Lags for 2023\n",
    "lr_coefficients = lm_coeffs[\"Time + Price Lags + External Features + External Lags\"]\n",
    "plot_year_over_year_coefficients(lr_coefficients, keyword=\"y_lag\", years=[2023], save_dir=\"../images\")"
   ]
  },
  {
   "cell_type": "code",
   "execution_count": null,
   "metadata": {},
   "outputs": [],
   "source": [
    "# Plot custom metrics for all models\n",
    "plot_custom_metrics(spot_data, lm_predictions, top_k=3, save_dir=\"../images\")"
   ]
  }
 ],
 "metadata": {
  "kernelspec": {
   "display_name": "time-series-prediction",
   "language": "python",
   "name": "python3"
  },
  "language_info": {
   "codemirror_mode": {
    "name": "ipython",
    "version": 3
   },
   "file_extension": ".py",
   "mimetype": "text/x-python",
   "name": "python",
   "nbconvert_exporter": "python",
   "pygments_lexer": "ipython3",
   "version": "3.12.2"
  }
 },
 "nbformat": 4,
 "nbformat_minor": 2
}
