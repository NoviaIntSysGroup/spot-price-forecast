{
 "cells": [
  {
   "cell_type": "markdown",
   "metadata": {},
   "source": [
    "# **1. Import Libraries**"
   ]
  },
  {
   "cell_type": "code",
   "execution_count": null,
   "metadata": {},
   "outputs": [],
   "source": [
    "# Reloading modules automatically when they change\n",
    "%load_ext autoreload\n",
    "%autoreload 2"
   ]
  },
  {
   "cell_type": "code",
   "execution_count": null,
   "metadata": {},
   "outputs": [],
   "source": [
    "from forecaster.data import spot\n",
    "from forecaster.models import models, trainer\n",
    "from forecaster.plotting.interactive import plot_predictions\n",
    "from forecaster.data.fingrid import EXTERNAL_FEATURES"
   ]
  },
  {
   "cell_type": "markdown",
   "metadata": {},
   "source": [
    "# **2. Load Data**"
   ]
  },
  {
   "cell_type": "code",
   "execution_count": null,
   "metadata": {},
   "outputs": [],
   "source": [
    "import os\n",
    "\n",
    "# Load the data\n",
    "file_path = '../data/spot_prices_fi_2016_2023.csv'\n",
    "spot_data = spot.load_spot_data(file_path, date_col=\"date\", price_col=\"elspot-fi\")\n",
    "plot_predictions(spot_data)"
   ]
  },
  {
   "cell_type": "markdown",
   "metadata": {},
   "source": [
    "# **3. Model Training**\n",
    "Fit a linear model with LEAR features highly inspired by the following paper: [LEAR Paper](https://www.sciencedirect.com/science/article/pii/S0306261921004529?via%3Dihub)"
   ]
  },
  {
   "cell_type": "code",
   "execution_count": null,
   "metadata": {},
   "outputs": [],
   "source": [
    "# model = models.LinearModel(daily_price_lags=[1])\n",
    "# model = models.LinearModel(daily_price_lags=[1, 2, 3, 7], time_features=True)\n",
    "model = models.LinearModel(daily_price_lags=[1, 2, 3, 7], time_features=True, efternal_features=EXTERNAL_FEATURES, daily_external_lags=[1, 7])\n",
    "data_with_features = model.preprocess_data(spot_data)\n",
    "\n",
    "predictions, metrics, coeffs = trainer.year_on_year_training(data_with_features, model)\n",
    "print(metrics)\n",
    "plot_predictions(spot_data, predictions)"
   ]
  },
  {
   "cell_type": "markdown",
   "metadata": {},
   "source": [
    "## **4. Export Predictions**"
   ]
  },
  {
   "cell_type": "code",
   "execution_count": null,
   "metadata": {},
   "outputs": [],
   "source": [
    "raw_spot_data = spot.load_spot_data(file_path, date_col=\"date\", price_col=\"elspot-fi\", raw=True)\n",
    "\n",
    "# Determine the new file path\n",
    "directory, full_file_name = os.path.split(file_path)\n",
    "file_name, file_extension = os.path.splitext(full_file_name)\n",
    "new_full_file_name = f\"{file_name}_with_predictions{file_extension}\"\n",
    "new_file_path = os.path.join(directory, new_full_file_name)\n",
    "\n",
    "# Merge the original spot data with model predictions, insert nan where predictions are missing\n",
    "spot_data_and_predictions = raw_spot_data.merge(predictions['test'], left_index=True, right_index=True, how='left')\n",
    "spot_data_and_predictions.rename(columns={'y_hat': 'predicted_price'}, inplace=True)\n",
    "\n",
    "# Reset the index and just keep the original date column\n",
    "spot_data_and_predictions.reset_index(drop=True, inplace=True)\n",
    "\n",
    "# Save the predictions to a new file together with the original data\n",
    "spot_data_and_predictions.to_csv(new_file_path)\n",
    "spot_data_and_predictions.tail()"
   ]
  }
 ],
 "metadata": {
  "kernelspec": {
   "display_name": "spot-price-forecast",
   "language": "python",
   "name": "python3"
  },
  "language_info": {
   "codemirror_mode": {
    "name": "ipython",
    "version": 3
   },
   "file_extension": ".py",
   "mimetype": "text/x-python",
   "name": "python",
   "nbconvert_exporter": "python",
   "pygments_lexer": "ipython3",
   "version": "3.11.10"
  }
 },
 "nbformat": 4,
 "nbformat_minor": 2
}
